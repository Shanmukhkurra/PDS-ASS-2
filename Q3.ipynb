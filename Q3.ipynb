{
  "nbformat": 4,
  "nbformat_minor": 0,
  "metadata": {
    "colab": {
      "provenance": []
    },
    "kernelspec": {
      "name": "python3",
      "display_name": "Python 3"
    },
    "language_info": {
      "name": "python"
    }
  },
  "cells": [
    {
      "cell_type": "code",
      "execution_count": 53,
      "metadata": {
        "id": "N-Hl5Q9i0OXa"
      },
      "outputs": [],
      "source": [
        "import pandas as pd\n",
        "import numpy as np\n",
        "from sklearn.preprocessing import LabelEncoder\n",
        "from google.colab import files\n",
        "df = pd.read_csv('/content/train.csv')\n",
        "df = pd.get_dummies(df, columns=['Fuel_Type', 'Transmission'], drop_first=True)\n",
        "\n"
      ]
    },
    {
      "cell_type": "code",
      "source": [],
      "metadata": {
        "id": "F599O5HRzGjp"
      },
      "execution_count": 10,
      "outputs": []
    }
  ]
}