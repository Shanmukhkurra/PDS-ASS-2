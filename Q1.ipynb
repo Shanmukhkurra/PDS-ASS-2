{
  "nbformat": 4,
  "nbformat_minor": 0,
  "metadata": {
    "colab": {
      "provenance": []
    },
    "kernelspec": {
      "name": "python3",
      "display_name": "Python 3"
    },
    "language_info": {
      "name": "python"
    }
  },
  "cells": [
    {
      "cell_type": "code",
      "execution_count": 44,
      "metadata": {
        "colab": {
          "base_uri": "https://localhost:8080/"
        },
        "id": "N-Hl5Q9i0OXa",
        "outputId": "e9950574-181e-49eb-efd1-312328dea87d"
      },
      "outputs": [
        {
          "output_type": "stream",
          "name": "stdout",
          "text": [
            "Unnamed: 0           0\n",
            "Name                 0\n",
            "Location             0\n",
            "Year                 0\n",
            "Kilometers_Driven    0\n",
            "Fuel_Type            0\n",
            "Transmission         0\n",
            "Owner_Type           0\n",
            "Mileage              0\n",
            "Engine               0\n",
            "Power                0\n",
            "Seats                0\n",
            "New_Price            0\n",
            "Price                0\n",
            "dtype: int64\n"
          ]
        }
      ],
      "source": [
        "import pandas as pd\n",
        "import numpy as np\n",
        "from sklearn.preprocessing import LabelEncoder\n",
        "from google.colab import files\n",
        "\n",
        "df = pd.read_csv('/content/train.csv')\n",
        "#print(df.isnull().sum())\n",
        "for column in df.columns:\n",
        "    if pd.api.types.is_numeric_dtype(df[column]):\n",
        "        df[column].fillna(df[column].median(), inplace=True)\n",
        "    else:\n",
        "        df[column].fillna(df[column].mode()[0], inplace=True)\n",
        "print(df.isnull().sum())\n"
      ]
    },
    {
      "cell_type": "code",
      "source": [],
      "metadata": {
        "id": "F599O5HRzGjp"
      },
      "execution_count": 10,
      "outputs": []
    }
  ]
}